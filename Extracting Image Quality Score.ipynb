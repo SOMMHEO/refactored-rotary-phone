{
 "cells": [
  {
   "cell_type": "markdown",
   "metadata": {},
   "source": [
    "Extracing Image Quality Score"
   ]
  },
  {
   "cell_type": "code",
   "execution_count": null,
   "metadata": {},
   "outputs": [],
   "source": [
    "pip install image-quality"
   ]
  },
  {
   "cell_type": "code",
   "execution_count": null,
   "metadata": {},
   "outputs": [],
   "source": [
    "import imquality.brisque as brisque\n",
    "import PIL.Image\n",
    "import matplotlib.pyplot as plt\n",
    "\n",
    "import pandas as pd\n",
    "import numpy as np\n",
    "from tqdm.notebook import tqdm_notebook"
   ]
  },
  {
   "cell_type": "code",
   "execution_count": null,
   "metadata": {},
   "outputs": [],
   "source": [
    "# code test\n",
    "\n",
    "path = 'sample/20070@N98/173632.jpg'\n",
    "img = PIL.Image.open(path)\n",
    "\n",
    "plt.imshow(img)\n",
    "plt.axis('off')\n",
    "\n",
    "# quality assessment of above image\n",
    "print(\"image-quality  {}\".format(brisque.score(img)))"
   ]
  },
  {
   "cell_type": "code",
   "execution_count": null,
   "metadata": {},
   "outputs": [],
   "source": [
    "data_s = pd.read_csv('data_s.csv')\n",
    "data_s = data_s.dropna(axis = 0)\n",
    "\n",
    "# 현재 경로 추가\n",
    "data_s['img_path_2'] = 'your path' + data_s['path']\n",
    "data_s.info()\n",
    "\n",
    "img_list_jpg = data_s['img_path_2']\n",
    "list_quality_score = []\n",
    "\n",
    "n = 0\n",
    "for i in tqdm_notebook(img_list_jpg):\n",
    "  try:\n",
    "    image = Image.open(i)\n",
    "    s = brisque.score(image)\n",
    "    list_quality_score.append(s)\n",
    "    print(n)\n",
    "    n+=1\n",
    "  except:\n",
    "    list_quality_score.append(np.nan)\n",
    "    print(n,'error')\n",
    "    n+=1\n",
    "\n",
    "# quality socre 변수 생성\n",
    "data_s['quality_socre'] = ''\n",
    "for i in range(len(data_s)):\n",
    "    data_s['quality_socre'][i] = list_quality_score[i]\n",
    "\n",
    "# 확인\n",
    "data_s['quality_socre'][:3]\n",
    "data_s.to_csv('data_s2.csv')"
   ]
  }
 ],
 "metadata": {
  "kernelspec": {
   "display_name": "Python 3",
   "language": "python",
   "name": "python3"
  },
  "language_info": {
   "name": "python",
   "version": "3.11.9"
  }
 },
 "nbformat": 4,
 "nbformat_minor": 2
}
