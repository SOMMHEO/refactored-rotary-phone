{
 "cells": [
  {
   "cell_type": "markdown",
   "metadata": {},
   "source": [
    "Extracting Deep Learning Features from Images"
   ]
  },
  {
   "cell_type": "code",
   "execution_count": null,
   "metadata": {},
   "outputs": [],
   "source": [
    "import torch\n",
    "import torch.nn as nn\n",
    "import torchvision.models as models\n",
    "import torchvision.transforms as transforms\n",
    "from torch.autograd import Variable\n",
    "\n",
    "from IPython.display import Image\n",
    "from IPython.core.display import HTML\n",
    "\n",
    "from PIL import Image\n",
    "import requests\n",
    "from io import BytesIO"
   ]
  },
  {
   "cell_type": "code",
   "execution_count": null,
   "metadata": {},
   "outputs": [],
   "source": [
    "# Resnet loading\n",
    "\n",
    "model = models.resnet50(pretrained='imagenet')"
   ]
  },
  {
   "cell_type": "code",
   "execution_count": null,
   "metadata": {},
   "outputs": [],
   "source": [
    "#Resize the image to 224x224 px\n",
    "# input size도 변경(resnet 모델 변경시)\n",
    "\n",
    "scaler = transforms.Resize((224, 224))\n",
    "normalize = transforms.Normalize(mean=[0.485, 0.456, 0.406],\n",
    "                                 std=[0.229, 0.224, 0.225]) # scaling은 대부분 이 사이즈로 실행\n",
    "normalize = transforms.Normalize((0.5,),(0.5,))\n",
    "\n",
    "to_tensor = transforms.ToTensor()\n",
    "\n",
    "# Use the model object to select the desired layer\n",
    "layer = model._modules.get('avgpool')\n",
    "\n",
    "def extract_feature_vector(img):\n",
    "    # 2. Create a PyTorch Variable with the transformed image\n",
    "    #Unsqueeze actually converts to a tensor by adding the number of images as another dimension.\n",
    "    t_img = Variable(normalize(to_tensor(scaler(img))).unsqueeze(0))\n",
    "\n",
    "    # 3. Create a vector of zeros that will hold our feature vector\n",
    "    # The 'avgpool' layer has an output size of 512 -> output size로 변경해야함\n",
    "    my_embedding = torch.zeros(1, 2048, 1, 1)\n",
    "\n",
    "    # 4. Define a function that will copy the output of a layer\n",
    "    def copy_data(m, i, o):\n",
    "        my_embedding.copy_(o.data)\n",
    "\n",
    "    # 5. Attach that function to our selected layer\n",
    "    h = layer.register_forward_hook(copy_data)\n",
    "\n",
    "    # 6. Run the model on our transformed image\n",
    "    model(t_img)\n",
    "\n",
    "    # 7. Detach our copy function from the layer\n",
    "    h.remove()\n",
    "\n",
    "    # 8. Return the feature vector\n",
    "    return my_embedding.squeeze().numpy()"
   ]
  },
  {
   "cell_type": "code",
   "execution_count": null,
   "metadata": {},
   "outputs": [],
   "source": [
    "## code test \n",
    "\n",
    "image = Image.open(\"sample/20070@N98/173632.jpg\")\n",
    "a = extract_feature_vector(image)\n",
    "a"
   ]
  },
  {
   "cell_type": "markdown",
   "metadata": {},
   "source": [
    "load image files & data prerprocessing"
   ]
  },
  {
   "cell_type": "code",
   "execution_count": null,
   "metadata": {},
   "outputs": [],
   "source": [
    "import pandas as pd\n",
    "import numpy as np\n",
    "from tqdm.notebook import tqdm_notebook"
   ]
  },
  {
   "cell_type": "code",
   "execution_count": null,
   "metadata": {},
   "outputs": [],
   "source": [
    "data_s = pd.read_csv('data_s.csv')\n",
    "data_s = data_s.dropna(axis = 0)\n",
    "\n",
    "# 현재 경로 추가\n",
    "data_s['img_path_2'] = 'your path' + data_s['path']\n",
    "data_s.info()"
   ]
  },
  {
   "cell_type": "code",
   "execution_count": null,
   "metadata": {},
   "outputs": [],
   "source": [
    "img_list_jpg = data_s['img_path_2']\n",
    "\n",
    "list = []\n",
    "\n",
    "m = 0\n",
    "for i in tqdm_notebook(img_list_jpg):\n",
    "    try:\n",
    "      image = Image.open(i)\n",
    "      feature = extract_feature_vector(image)\n",
    "      list.append(feature)\n",
    "      print(m)\n",
    "      m+=1\n",
    "\n",
    "    except:\n",
    "      list.append(np.nan) # 예외 발생시 nan 처리\n",
    "      print(m,'error')\n",
    "      m+=1\n",
    "\n",
    "# 원본 데이터 저장\n",
    "df_resnet_features = pd.DataFrame(list)\n",
    "df_resnet_features.to_csv('df_resnet_features.csv')\n"
   ]
  }
 ],
 "metadata": {
  "language_info": {
   "name": "python"
  }
 },
 "nbformat": 4,
 "nbformat_minor": 2
}
