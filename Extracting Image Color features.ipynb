{
 "cells": [
  {
   "cell_type": "markdown",
   "metadata": {},
   "source": [
    "Extracting Specific Color Ratio"
   ]
  },
  {
   "cell_type": "code",
   "execution_count": null,
   "metadata": {},
   "outputs": [],
   "source": [
    "import numpy as np\n",
    "import cv2\n",
    "import pandas as pd\n",
    "from tqdm.notebook import tqdm_notebook\n",
    "\n",
    "color_red = []\n",
    "\n",
    "img_list_jpg = data_s.reset_index()['img_path_2']\n",
    "\n",
    "for i in tqdm_notebook(img_list_jpg):\n",
    "\n",
    "  img = cv2.imread(i)\n",
    "\n",
    "  red = [255, 0, 0] # RGB\n",
    "  diff = 20\n",
    "  boundaries = [([red[2] - diff, red[1] - diff, red[0] - diff],\n",
    "    [red[2] + diff, red[1] + diff, red[0] + diff])]\n",
    "\n",
    "  for (lower, upper) in boundaries:\n",
    "    lower = np.array(lower, dtype = np.uint8)\n",
    "    upper = np.array(upper, dtype = np.uint8)\n",
    "\n",
    "    mask = cv2.inRange(img, lower, upper)\n",
    "    output = cv2.bitwise_and(img, img, mask = mask)\n",
    "\n",
    "  ratio_red = cv2.countNonZero(mask) / (img.size / 3)\n",
    "  color_red.append(np.round(ratio_red * 100, 2))"
   ]
  },
  {
   "cell_type": "markdown",
   "metadata": {},
   "source": [
    "Extracing Image Representative color Ratio"
   ]
  },
  {
   "cell_type": "code",
   "execution_count": null,
   "metadata": {},
   "outputs": [],
   "source": [
    "pip install extcolors"
   ]
  },
  {
   "cell_type": "code",
   "execution_count": null,
   "metadata": {},
   "outputs": [],
   "source": [
    "# image 대표 색상 extract\n",
    "img_list = data_s['img_path_2']\n",
    "\n",
    "list_rgb = []\n",
    "list_rgb_ratio = []\n",
    "\n",
    "for i in tqdm_notebook(img_list[:3]):\n",
    "    img = Image.open(i)\n",
    "\n",
    "    colors, pixel_count = extcolors.extract_from_image(img)\n",
    "#     rgb = colors[0][0]\n",
    "    percent = (round((colors[0][1] / pixel_count) * 100, 2))\n",
    "\n",
    "    list_rgb.append(tuple(colors[0][0]))\n",
    "    list_rgb_ratio.append(percent)"
   ]
  },
  {
   "cell_type": "code",
   "execution_count": null,
   "metadata": {},
   "outputs": [],
   "source": [
    "import colorsys\n",
    "\n",
    "sat = [] # 채도\n",
    "val = [] # 명도\n",
    "\n",
    "for i in list_rgb:\n",
    "  (r,g,b) = i\n",
    "  (r, g, b) = (r / 255, g / 255, b / 255)\n",
    "  (h, s, v) = colorsys.rgb_to_hsv(r, g, b) # rgb -> hsv\n",
    "  (h, s, v) = (int(h * 179), int(s * 255), int(v * 255))\n",
    "  sat.append(s)\n",
    "  val.append(v)\n",
    "  print(h,s,v)"
   ]
  }
 ],
 "metadata": {
  "kernelspec": {
   "display_name": "Python 3",
   "language": "python",
   "name": "python3"
  },
  "language_info": {
   "codemirror_mode": {
    "name": "ipython",
    "version": 3
   },
   "file_extension": ".py",
   "mimetype": "text/x-python",
   "name": "python",
   "nbconvert_exporter": "python",
   "pygments_lexer": "ipython3",
   "version": "3.11.9"
  }
 },
 "nbformat": 4,
 "nbformat_minor": 2
}
